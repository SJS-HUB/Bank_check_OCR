{
  "nbformat": 4,
  "nbformat_minor": 0,
  "metadata": {
    "colab": {
      "provenance": [],
      "gpuType": "T4"
    },
    "kernelspec": {
      "name": "python3",
      "display_name": "Python 3"
    },
    "language_info": {
      "name": "python"
    },
    "accelerator": "GPU"
  },
  "cells": [
    {
      "cell_type": "code",
      "execution_count": null,
      "metadata": {
        "id": "jLFiVRw5ta6g"
      },
      "outputs": [],
      "source": [
        "!pip install -q transformers datasets torchvision pytorch-lightning\n"
      ]
    },
    {
      "cell_type": "code",
      "source": [
        "import os\n",
        "import json\n",
        "import re\n",
        "from datetime import datetime"
      ],
      "metadata": {
        "id": "ivOw_bN21I5M"
      },
      "execution_count": null,
      "outputs": []
    },
    {
      "cell_type": "code",
      "source": [
        "from PIL import Image\n",
        "import matplotlib.pyplot as plt"
      ],
      "metadata": {
        "id": "BdogWdZD1JAT"
      },
      "execution_count": null,
      "outputs": []
    },
    {
      "cell_type": "code",
      "source": [
        "from transformers import DonutProcessor, VisionEncoderDecoderModel"
      ],
      "metadata": {
        "id": "jlvoqRuN1JHF"
      },
      "execution_count": null,
      "outputs": []
    },
    {
      "cell_type": "code",
      "source": [
        "import torch\n",
        "from torch.utils.data import Dataset, DataLoader\n",
        "import torchvision.transforms as T\n",
        "import pytorch_lightning as pl\n"
      ],
      "metadata": {
        "id": "Am9ia30I1JMj"
      },
      "execution_count": null,
      "outputs": []
    },
    {
      "cell_type": "code",
      "source": [
        "from datasets import Dataset as HFDataset, load_dataset\n"
      ],
      "metadata": {
        "id": "3ZdIhTH81yEv"
      },
      "execution_count": null,
      "outputs": []
    },
    {
      "cell_type": "code",
      "source": [
        "from google.colab import files\n",
        "import pandas as pd\n"
      ],
      "metadata": {
        "id": "MZy5rBy71yIL"
      },
      "execution_count": null,
      "outputs": []
    },
    {
      "cell_type": "code",
      "source": [
        "import zipfile\n",
        "import os\n",
        "\n",
        "# Step 1: Set paths\n",
        "zip_path = \"/content/IDRBT_Cheque_Image_Dataset.zip\"\n",
        "extract_path = \"/content/cheque_images\"\n",
        "\n",
        "# Step 2: Extract the ZIP file\n",
        "with zipfile.ZipFile(zip_path, 'r') as zip_ref:\n",
        "    zip_ref.extractall(extract_path)\n",
        "\n",
        "# Step 3: List the first 5 files after extraction\n",
        "files = os.listdir(extract_path)\n",
        "print(\"✅ Total files extracted:\", len(files))\n",
        "print(\"📂 First 5 files:\")\n",
        "for f in files[:5]:\n",
        "    print(f)\n"
      ],
      "metadata": {
        "id": "CjyeSwgZUOA7",
        "outputId": "7bb0715e-d6f3-40a3-f219-64b29f0390ba",
        "colab": {
          "base_uri": "https://localhost:8080/",
          "height": 371
        }
      },
      "execution_count": null,
      "outputs": [
        {
          "output_type": "error",
          "ename": "BadZipFile",
          "evalue": "File is not a zip file",
          "traceback": [
            "\u001b[0;31m---------------------------------------------------------------------------\u001b[0m",
            "\u001b[0;31mBadZipFile\u001b[0m                                Traceback (most recent call last)",
            "\u001b[0;32m/tmp/ipython-input-26-1206320101.py\u001b[0m in \u001b[0;36m<cell line: 0>\u001b[0;34m()\u001b[0m\n\u001b[1;32m      7\u001b[0m \u001b[0;34m\u001b[0m\u001b[0m\n\u001b[1;32m      8\u001b[0m \u001b[0;31m# Step 2: Extract the ZIP file\u001b[0m\u001b[0;34m\u001b[0m\u001b[0;34m\u001b[0m\u001b[0m\n\u001b[0;32m----> 9\u001b[0;31m \u001b[0;32mwith\u001b[0m \u001b[0mzipfile\u001b[0m\u001b[0;34m.\u001b[0m\u001b[0mZipFile\u001b[0m\u001b[0;34m(\u001b[0m\u001b[0mzip_path\u001b[0m\u001b[0;34m,\u001b[0m \u001b[0;34m'r'\u001b[0m\u001b[0;34m)\u001b[0m \u001b[0;32mas\u001b[0m \u001b[0mzip_ref\u001b[0m\u001b[0;34m:\u001b[0m\u001b[0;34m\u001b[0m\u001b[0;34m\u001b[0m\u001b[0m\n\u001b[0m\u001b[1;32m     10\u001b[0m     \u001b[0mzip_ref\u001b[0m\u001b[0;34m.\u001b[0m\u001b[0mextractall\u001b[0m\u001b[0;34m(\u001b[0m\u001b[0mextract_path\u001b[0m\u001b[0;34m)\u001b[0m\u001b[0;34m\u001b[0m\u001b[0;34m\u001b[0m\u001b[0m\n\u001b[1;32m     11\u001b[0m \u001b[0;34m\u001b[0m\u001b[0m\n",
            "\u001b[0;32m/usr/lib/python3.11/zipfile.py\u001b[0m in \u001b[0;36m__init__\u001b[0;34m(self, file, mode, compression, allowZip64, compresslevel, strict_timestamps, metadata_encoding)\u001b[0m\n\u001b[1;32m   1311\u001b[0m         \u001b[0;32mtry\u001b[0m\u001b[0;34m:\u001b[0m\u001b[0;34m\u001b[0m\u001b[0;34m\u001b[0m\u001b[0m\n\u001b[1;32m   1312\u001b[0m             \u001b[0;32mif\u001b[0m \u001b[0mmode\u001b[0m \u001b[0;34m==\u001b[0m \u001b[0;34m'r'\u001b[0m\u001b[0;34m:\u001b[0m\u001b[0;34m\u001b[0m\u001b[0;34m\u001b[0m\u001b[0m\n\u001b[0;32m-> 1313\u001b[0;31m                 \u001b[0mself\u001b[0m\u001b[0;34m.\u001b[0m\u001b[0m_RealGetContents\u001b[0m\u001b[0;34m(\u001b[0m\u001b[0;34m)\u001b[0m\u001b[0;34m\u001b[0m\u001b[0;34m\u001b[0m\u001b[0m\n\u001b[0m\u001b[1;32m   1314\u001b[0m             \u001b[0;32melif\u001b[0m \u001b[0mmode\u001b[0m \u001b[0;32min\u001b[0m \u001b[0;34m(\u001b[0m\u001b[0;34m'w'\u001b[0m\u001b[0;34m,\u001b[0m \u001b[0;34m'x'\u001b[0m\u001b[0;34m)\u001b[0m\u001b[0;34m:\u001b[0m\u001b[0;34m\u001b[0m\u001b[0;34m\u001b[0m\u001b[0m\n\u001b[1;32m   1315\u001b[0m                 \u001b[0;31m# set the modified flag so central directory gets written\u001b[0m\u001b[0;34m\u001b[0m\u001b[0;34m\u001b[0m\u001b[0m\n",
            "\u001b[0;32m/usr/lib/python3.11/zipfile.py\u001b[0m in \u001b[0;36m_RealGetContents\u001b[0;34m(self)\u001b[0m\n\u001b[1;32m   1378\u001b[0m             \u001b[0;32mraise\u001b[0m \u001b[0mBadZipFile\u001b[0m\u001b[0;34m(\u001b[0m\u001b[0;34m\"File is not a zip file\"\u001b[0m\u001b[0;34m)\u001b[0m\u001b[0;34m\u001b[0m\u001b[0;34m\u001b[0m\u001b[0m\n\u001b[1;32m   1379\u001b[0m         \u001b[0;32mif\u001b[0m \u001b[0;32mnot\u001b[0m \u001b[0mendrec\u001b[0m\u001b[0;34m:\u001b[0m\u001b[0;34m\u001b[0m\u001b[0;34m\u001b[0m\u001b[0m\n\u001b[0;32m-> 1380\u001b[0;31m             \u001b[0;32mraise\u001b[0m \u001b[0mBadZipFile\u001b[0m\u001b[0;34m(\u001b[0m\u001b[0;34m\"File is not a zip file\"\u001b[0m\u001b[0;34m)\u001b[0m\u001b[0;34m\u001b[0m\u001b[0;34m\u001b[0m\u001b[0m\n\u001b[0m\u001b[1;32m   1381\u001b[0m         \u001b[0;32mif\u001b[0m \u001b[0mself\u001b[0m\u001b[0;34m.\u001b[0m\u001b[0mdebug\u001b[0m \u001b[0;34m>\u001b[0m \u001b[0;36m1\u001b[0m\u001b[0;34m:\u001b[0m\u001b[0;34m\u001b[0m\u001b[0;34m\u001b[0m\u001b[0m\n\u001b[1;32m   1382\u001b[0m             \u001b[0mprint\u001b[0m\u001b[0;34m(\u001b[0m\u001b[0mendrec\u001b[0m\u001b[0;34m)\u001b[0m\u001b[0;34m\u001b[0m\u001b[0;34m\u001b[0m\u001b[0m\n",
            "\u001b[0;31mBadZipFile\u001b[0m: File is not a zip file"
          ]
        }
      ]
    },
    {
      "cell_type": "code",
      "source": [
        "# Set your dataset folder path\n",
        "data_path = \"/content/IDRBT_Cheque_Image_Dataset.zip\"\n",
        "\n",
        "# List all files\n",
        "files = os.listdir(data_path)\n",
        "\n",
        "# Show first 5 files\n",
        "print(\"First 5 files:\")\n",
        "for f in files[:5]:\n",
        "    print(f)\n"
      ],
      "metadata": {
        "colab": {
          "base_uri": "https://localhost:8080/",
          "height": 238
        },
        "id": "tNYQxr9xvrNP",
        "outputId": "6cff6324-288d-4f37-8453-0da747800ed1"
      },
      "execution_count": null,
      "outputs": [
        {
          "output_type": "error",
          "ename": "NotADirectoryError",
          "evalue": "[Errno 20] Not a directory: '/content/IDRBT_Cheque_Image_Dataset.zip'",
          "traceback": [
            "\u001b[0;31m---------------------------------------------------------------------------\u001b[0m",
            "\u001b[0;31mNotADirectoryError\u001b[0m                        Traceback (most recent call last)",
            "\u001b[0;32m/tmp/ipython-input-25-2901676251.py\u001b[0m in \u001b[0;36m<cell line: 0>\u001b[0;34m()\u001b[0m\n\u001b[1;32m      3\u001b[0m \u001b[0;34m\u001b[0m\u001b[0m\n\u001b[1;32m      4\u001b[0m \u001b[0;31m# List all files\u001b[0m\u001b[0;34m\u001b[0m\u001b[0;34m\u001b[0m\u001b[0m\n\u001b[0;32m----> 5\u001b[0;31m \u001b[0mfiles\u001b[0m \u001b[0;34m=\u001b[0m \u001b[0mos\u001b[0m\u001b[0;34m.\u001b[0m\u001b[0mlistdir\u001b[0m\u001b[0;34m(\u001b[0m\u001b[0mdata_path\u001b[0m\u001b[0;34m)\u001b[0m\u001b[0;34m\u001b[0m\u001b[0;34m\u001b[0m\u001b[0m\n\u001b[0m\u001b[1;32m      6\u001b[0m \u001b[0;34m\u001b[0m\u001b[0m\n\u001b[1;32m      7\u001b[0m \u001b[0;31m# Show first 5 files\u001b[0m\u001b[0;34m\u001b[0m\u001b[0;34m\u001b[0m\u001b[0m\n",
            "\u001b[0;31mNotADirectoryError\u001b[0m: [Errno 20] Not a directory: '/content/IDRBT_Cheque_Image_Dataset.zip'"
          ]
        }
      ]
    },
    {
      "cell_type": "code",
      "source": [
        "subfolders = os.listdir(\"/content/IDRBT_Cheque_Image_Dataset\")\n",
        "print(\"🔎 Subfolders inside IDRBT_Cheque_Image_Dataset:\")\n",
        "print(subfolders)\n"
      ],
      "metadata": {
        "id": "2iksYsTO1_xw"
      },
      "execution_count": null,
      "outputs": []
    },
    {
      "cell_type": "code",
      "source": [
        "import os\n",
        "\n",
        "image_folder = \"/content/IDRBT_Cheque_Image_Dataset/IDRBT Cheque Image Dataset\"\n",
        "all_files = os.listdir(image_folder)\n",
        "\n",
        "print(\"📁 Files in image folder:\")\n",
        "for f in all_files:\n",
        "    print(f)\n"
      ],
      "metadata": {
        "id": "G3lXSIoU2VqW"
      },
      "execution_count": null,
      "outputs": []
    },
    {
      "cell_type": "markdown",
      "source": [],
      "metadata": {
        "id": "U-0neOA12tnp"
      }
    },
    {
      "cell_type": "markdown",
      "source": [
        "# Convert .tif → .png"
      ],
      "metadata": {
        "id": "GDx3nv5F3NY7"
      }
    },
    {
      "cell_type": "code",
      "source": [
        "from PIL import Image\n",
        "import os\n",
        "\n",
        "src_folder = \"/content/IDRBT_Cheque_Image_Dataset/IDRBT Cheque Image Dataset/300\"\n",
        "dest_folder = \"/content/cheque_images_png\"\n",
        "os.makedirs(dest_folder, exist_ok=True)\n",
        "\n",
        "# Convert each .tif to .png\n",
        "for file in os.listdir(src_folder):\n",
        "    if file.lower().endswith(\".tif\"):\n",
        "        img_path = os.path.join(src_folder, file)\n",
        "        img = Image.open(img_path)\n",
        "        new_name = os.path.splitext(file)[0] + \".png\"\n",
        "        img.save(os.path.join(dest_folder, new_name))\n",
        "\n",
        "print(\"✅ All .tif cheques converted to .png\")\n"
      ],
      "metadata": {
        "id": "XHMFIwAH27xD"
      },
      "execution_count": null,
      "outputs": []
    },
    {
      "cell_type": "code",
      "source": [
        "converted_files = os.listdir(dest_folder)\n",
        "print(\" Total PNGs:\", len(converted_files))\n",
        "print(\" Sample files:\", converted_files[:5])"
      ],
      "metadata": {
        "id": "Wg7vFcu-3KFY"
      },
      "execution_count": null,
      "outputs": []
    },
    {
      "cell_type": "markdown",
      "source": [
        "# preview a single image"
      ],
      "metadata": {
        "id": "xLpUW_4E304V"
      }
    },
    {
      "cell_type": "code",
      "source": [
        "from PIL import Image\n",
        "import matplotlib.pyplot as plt\n",
        "import os\n",
        "\n",
        "image_folder = \"/content/cheque_images_png\"\n",
        "sample_img = os.path.join(image_folder, \"Cheque 309110.png\")  # use any image\n",
        "\n",
        "img = Image.open(sample_img)\n",
        "\n",
        "plt.figure(figsize=(10, 5))\n",
        "plt.imshow(img)\n",
        "plt.axis(\"off\")\n",
        "plt.title(\"🧾 Sample Cheque Preview\")\n",
        "plt.show()"
      ],
      "metadata": {
        "id": "LiiQgbIW3pXW"
      },
      "execution_count": null,
      "outputs": []
    },
    {
      "cell_type": "code",
      "source": [
        "image_files = os.listdir(image_folder)\n",
        "image_files = sorted(image_files)[:6]  # adjust range if needed\n",
        "\n",
        "plt.figure(figsize=(15, 8))\n",
        "\n",
        "for idx, fname in enumerate(image_files):\n",
        "    img_path = os.path.join(image_folder, fname)\n",
        "    img = Image.open(img_path)\n",
        "\n",
        "    plt.subplot(2, 3, idx + 1)\n",
        "    plt.imshow(img)\n",
        "    plt.title(fname, fontsize=8)\n",
        "    plt.axis(\"off\")\n",
        "\n",
        "plt.suptitle(\"🧾 First 6 Cheque Images\", fontsize=16)\n",
        "plt.tight_layout()\n",
        "plt.show()\n"
      ],
      "metadata": {
        "id": "R9I91S4f37DM"
      },
      "execution_count": null,
      "outputs": []
    },
    {
      "cell_type": "code",
      "source": [
        "# Adjust size for better zoom\n",
        "img = Image.open(os.path.join(image_folder, image_files[0]))\n",
        "plt.figure(figsize=(20, 10))\n",
        "plt.imshow(img)\n",
        "plt.axis(\"off\")\n",
        "plt.title(image_files[0])\n",
        "plt.show()\n"
      ],
      "metadata": {
        "id": "cuFVjj9j398r"
      },
      "execution_count": null,
      "outputs": []
    },
    {
      "cell_type": "code",
      "source": [
        "!zip -r cheque_images.zip /content/cheque_images_png\n"
      ],
      "metadata": {
        "id": "fl3TqkdW510u"
      },
      "execution_count": null,
      "outputs": []
    },
    {
      "cell_type": "code",
      "source": [
        "!pip install -q transformers torchvision datasets pytorch-lightning\n",
        "!pip install -q git+https://github.com/clovaai/donut.git"
      ],
      "metadata": {
        "id": "qFvi7HOo-wRl"
      },
      "execution_count": null,
      "outputs": []
    },
    {
      "cell_type": "code",
      "source": [
        "from google.colab import drive\n",
        "drive.mount('/content/drive')\n"
      ],
      "metadata": {
        "id": "rTffd0tXO1Z3"
      },
      "execution_count": null,
      "outputs": []
    },
    {
      "cell_type": "code",
      "source": [
        "!pip install -q transformers datasets torchvision pytorch-lightning timm"
      ],
      "metadata": {
        "id": "WLAbsO6QPdOh"
      },
      "execution_count": null,
      "outputs": []
    },
    {
      "cell_type": "code",
      "source": [],
      "metadata": {
        "id": "JSoonyqGP4u-"
      },
      "execution_count": null,
      "outputs": []
    }
  ]
}